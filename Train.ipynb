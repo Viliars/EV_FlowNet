{
 "cells": [
  {
   "cell_type": "code",
   "execution_count": null,
   "metadata": {},
   "outputs": [],
   "source": [
    "from pathlib import Path\n",
    "import torch\n",
    "import numpy as np\n",
    "from net import Model\n",
    "from datasets import KITTY, MVSEC\n",
    "from tqdm import tqdm\n",
    "from loss import photometric_loss, smoothness_loss\n",
    "from flow_loss import flow_error_dense\n",
    "from torch.utils.tensorboard import SummaryWriter\n",
    "import paths"
   ]
  },
  {
   "cell_type": "code",
   "execution_count": null,
   "metadata": {},
   "outputs": [],
   "source": [
    "kitty_path = Path(paths.kitty)\n",
    "mvsec_path = Path(paths.mvsec)\n",
    "models_path = Path(paths.models)\n",
    "\n",
    "train = KITTY(kitty_path)\n",
    "train_loader = torch.utils.data.DataLoader(train, batch_size=20, num_workers=1, shuffle=True, pin_memory=True)\n",
    "test = MVSEC(mvsec_path)\n",
    "test_loader = torch.utils.data.DataLoader(test, batch_size=20, num_workers=1, shuffle=True, pin_memory=True)\n",
    "\n",
    "writer = SummaryWriter()"
   ]
  },
  {
   "cell_type": "code",
   "execution_count": null,
   "metadata": {},
   "outputs": [],
   "source": [
    "device = torch.device('cuda:0')\n",
    "model = Model()\n",
    "model = model.to(device)\n",
    "imsize = 256, 256\n",
    "\n",
    "print(f\"TrainSize = {len(train)}\")\n",
    "print(f\"TestSize = {len(test)}\")\n",
    "\n",
    "model.train()\n",
    "\n",
    "optimizer = torch.optim.Adam(model.parameters(), lr=1.0e-4)\n",
    "scheduler = torch.optim.lr_scheduler.StepLR(optimizer, 4, 0.8)"
   ]
  },
  {
   "cell_type": "code",
   "execution_count": null,
   "metadata": {},
   "outputs": [],
   "source": [
    "for epoch in range(151):\n",
    "    print(f\"------ EPOCH {epoch} ------\")\n",
    "    # TRAIN\n",
    "    train_losses = []\n",
    "    for i_batch, sample_batched in tqdm(enumerate(train_loader)):\n",
    "        optimizer.zero_grad()\n",
    "\n",
    "        pred_images, next_images, event_images = sample_batched\n",
    "\n",
    "        pred_images = pred_images.to(device)\n",
    "        next_images = next_images.to(device)\n",
    "        event_images = event_images.to(device)\n",
    "\n",
    "        flow = model.forward(event_images)\n",
    "        loss = photometric_loss(pred_images, next_images, flow) + 0.5 * smoothness_loss(flow)\n",
    "\n",
    "        loss.backward()\n",
    "        optimizer.step()\n",
    "\n",
    "        train_losses.append(loss.item())\n",
    "\n",
    "    scheduler.step()\n",
    "    print(f\"Loss/train = {np.mean(train_losses)}\")\n",
    "    writer.add_scalar('Loss/train', np.mean(train_losses), epoch)\n",
    "\n",
    "    # TEST\n",
    "    if epoch % 10 == 0 and epoch > 1:\n",
    "        torch.save(model.state_dict(), models_path/f\"model{epoch}.pth\")\n",
    "        torch.save(optimizer.state_dict(), models_path / f\"optimizer{epoch}.pth\")\n",
    "\n",
    "        model.eval()\n",
    "\n",
    "        test_losses_AEE = []\n",
    "        test_losses_percent_AEE = []\n",
    "\n",
    "        with torch.no_grad():\n",
    "            for i_batch, sample_batched in tqdm(enumerate(test_loader)):\n",
    "                pred_images, next_images, event_images, gt_flow = sample_batched\n",
    "                event_mask = torch.sum(event_images[:, :2, ...], dim=1)\n",
    "                event_images = event_images.to(device)\n",
    "\n",
    "                flow = model.forward(event_images)\n",
    "\n",
    "                flow = flow.cpu()\n",
    "\n",
    "                for i in range(flow.shape[0]):\n",
    "                    AEE, percent_AEE, _ = flow_error_dense(gt_flow[i], flow[i], event_mask[i])\n",
    "                    test_losses_AEE.append(AEE)\n",
    "                    test_losses_percent_AEE.append(percent_AEE)\n",
    "\n",
    "        print(f\"Loss/test_AEE = {np.mean(test_losses_AEE)}\")\n",
    "        print(f\"Loss/test_percent_AEE = {np.mean(test_losses_percent_AEE)}\")\n",
    "\n",
    "        writer.add_scalar('Loss/test_AEE', np.mean(test_losses_AEE), epoch)\n",
    "        writer.add_scalar('Loss/test_percent_AEE', np.mean(test_losses_percent_AEE), epoch)\n",
    "\n",
    "        model.train()"
   ]
  }
 ],
 "metadata": {
  "kernelspec": {
   "display_name": "Python 3",
   "language": "python",
   "name": "python3"
  },
  "language_info": {
   "codemirror_mode": {
    "name": "ipython",
    "version": 3
   },
   "file_extension": ".py",
   "mimetype": "text/x-python",
   "name": "python",
   "nbconvert_exporter": "python",
   "pygments_lexer": "ipython3",
   "version": "3.7.4"
  }
 },
 "nbformat": 4,
 "nbformat_minor": 2
}
